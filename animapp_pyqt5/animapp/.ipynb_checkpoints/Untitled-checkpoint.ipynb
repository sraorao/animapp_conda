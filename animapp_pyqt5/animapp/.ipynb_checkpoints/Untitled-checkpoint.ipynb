{
 "cells": [
  {
   "cell_type": "code",
   "execution_count": 100,
   "metadata": {},
   "outputs": [],
   "source": [
    "import pandas as pd\n",
    "import process_csv as pcsv\n"
   ]
  },
  {
   "cell_type": "code",
   "execution_count": 125,
   "metadata": {},
   "outputs": [],
   "source": [
    "cut_vid = pd.read_csv('/home/srao/Documents/animapp_desktop/sample_videos/cut_video_mod.mp4.csv', names = ['x', 'y', 'frame'], usecols = [0, 1, 2])"
   ]
  },
  {
   "cell_type": "code",
   "execution_count": 126,
   "metadata": {},
   "outputs": [],
   "source": [
    "original_csv = cut_vid"
   ]
  },
  {
   "cell_type": "code",
   "execution_count": 127,
   "metadata": {
    "scrolled": true
   },
   "outputs": [],
   "source": [
    "filled_csv = pcsv.fill_frames(original_csv)"
   ]
  },
  {
   "cell_type": "code",
   "execution_count": 128,
   "metadata": {},
   "outputs": [],
   "source": [
    "def fill_frames(dataframe):\n",
    "    \"\"\"\n",
    "    Returns new dataframe without any missing frames.\n",
    "    Fills the dataframe where frames are missing (e.g., when no object is detected in a frame). \n",
    "    \"Filling\" means adding a new row with the missing frame number with x and y coordinates exactly \n",
    "    the same as the preceding frame (so that the distance travelled is not affected)\n",
    "\n",
    "    Keyword arguments:\n",
    "    dataframe -- a pandas dataframe containing the labelled columns x, y, frame\n",
    "    \"\"\"\n",
    "\n",
    "    filled_df = pd.DataFrame(columns = ['x', 'y', 'frame'])\n",
    "    dataframe.index = pd.RangeIndex(len(dataframe.index))\n",
    "    print(dataframe)\n",
    "    for i in range(1, dataframe.shape[0]):\n",
    "        if (dataframe.frame[i] - dataframe.frame[i - 1]) > 1:\n",
    "            for missing_frame in range(dataframe.frame[i-1] + 1, dataframe.frame[i]):\n",
    "                filled_df.loc[missing_frame] = [dataframe.x[i-1], dataframe.y[i-1], missing_frame]\n",
    "    # dataframe.index = dataframe.frame\n",
    "    # dataframe.index.name = None\n",
    "    print(f\"dataframe:{dataframe.columns}, filled:{filled_df.columns}\")\n",
    "    dataframe = pd.concat([dataframe, filled_df])\n",
    "    dataframe = dataframe.sort_values(by = 'frame', axis = 0)\n",
    "    dataframe.index = pd.RangeIndex(len(dataframe.index))\n",
    "    return(dataframe)"
   ]
  },
  {
   "cell_type": "code",
   "execution_count": 129,
   "metadata": {},
   "outputs": [
    {
     "name": "stdout",
     "output_type": "stream",
     "text": [
      "      x    y  frame\n",
      "0   279  379    289\n",
      "1   284  354    290\n",
      "2   277  366    291\n",
      "3   283  346    296\n",
      "4   281  343    297\n",
      "..  ...  ...    ...\n",
      "75  307  282    368\n",
      "76  331  266    369\n",
      "77  338  289    370\n",
      "78  334  282    371\n",
      "79  348  283    372\n",
      "\n",
      "[80 rows x 3 columns]\n",
      "dataframe:Index(['x', 'y', 'frame'], dtype='object'), filled:Index(['x', 'y', 'frame'], dtype='object')\n"
     ]
    },
    {
     "data": {
      "text/html": [
       "<div>\n",
       "<style scoped>\n",
       "    .dataframe tbody tr th:only-of-type {\n",
       "        vertical-align: middle;\n",
       "    }\n",
       "\n",
       "    .dataframe tbody tr th {\n",
       "        vertical-align: top;\n",
       "    }\n",
       "\n",
       "    .dataframe thead th {\n",
       "        text-align: right;\n",
       "    }\n",
       "</style>\n",
       "<table border=\"1\" class=\"dataframe\">\n",
       "  <thead>\n",
       "    <tr style=\"text-align: right;\">\n",
       "      <th></th>\n",
       "      <th>x</th>\n",
       "      <th>y</th>\n",
       "      <th>frame</th>\n",
       "    </tr>\n",
       "  </thead>\n",
       "  <tbody>\n",
       "    <tr>\n",
       "      <th>0</th>\n",
       "      <td>279</td>\n",
       "      <td>379</td>\n",
       "      <td>289</td>\n",
       "    </tr>\n",
       "    <tr>\n",
       "      <th>1</th>\n",
       "      <td>284</td>\n",
       "      <td>354</td>\n",
       "      <td>290</td>\n",
       "    </tr>\n",
       "    <tr>\n",
       "      <th>2</th>\n",
       "      <td>277</td>\n",
       "      <td>366</td>\n",
       "      <td>291</td>\n",
       "    </tr>\n",
       "    <tr>\n",
       "      <th>292</th>\n",
       "      <td>277</td>\n",
       "      <td>366</td>\n",
       "      <td>292</td>\n",
       "    </tr>\n",
       "    <tr>\n",
       "      <th>293</th>\n",
       "      <td>277</td>\n",
       "      <td>366</td>\n",
       "      <td>293</td>\n",
       "    </tr>\n",
       "    <tr>\n",
       "      <th>...</th>\n",
       "      <td>...</td>\n",
       "      <td>...</td>\n",
       "      <td>...</td>\n",
       "    </tr>\n",
       "    <tr>\n",
       "      <th>75</th>\n",
       "      <td>307</td>\n",
       "      <td>282</td>\n",
       "      <td>368</td>\n",
       "    </tr>\n",
       "    <tr>\n",
       "      <th>76</th>\n",
       "      <td>331</td>\n",
       "      <td>266</td>\n",
       "      <td>369</td>\n",
       "    </tr>\n",
       "    <tr>\n",
       "      <th>77</th>\n",
       "      <td>338</td>\n",
       "      <td>289</td>\n",
       "      <td>370</td>\n",
       "    </tr>\n",
       "    <tr>\n",
       "      <th>78</th>\n",
       "      <td>334</td>\n",
       "      <td>282</td>\n",
       "      <td>371</td>\n",
       "    </tr>\n",
       "    <tr>\n",
       "      <th>79</th>\n",
       "      <td>348</td>\n",
       "      <td>283</td>\n",
       "      <td>372</td>\n",
       "    </tr>\n",
       "  </tbody>\n",
       "</table>\n",
       "<p>84 rows × 3 columns</p>\n",
       "</div>"
      ],
      "text/plain": [
       "       x    y frame\n",
       "0    279  379   289\n",
       "1    284  354   290\n",
       "2    277  366   291\n",
       "292  277  366   292\n",
       "293  277  366   293\n",
       "..   ...  ...   ...\n",
       "75   307  282   368\n",
       "76   331  266   369\n",
       "77   338  289   370\n",
       "78   334  282   371\n",
       "79   348  283   372\n",
       "\n",
       "[84 rows x 3 columns]"
      ]
     },
     "execution_count": 129,
     "metadata": {},
     "output_type": "execute_result"
    }
   ],
   "source": [
    "fill_frames(original_csv)"
   ]
  }
 ],
 "metadata": {
  "kernelspec": {
   "display_name": "Python 3",
   "language": "python",
   "name": "python3"
  },
  "language_info": {
   "codemirror_mode": {
    "name": "ipython",
    "version": 3
   },
   "file_extension": ".py",
   "mimetype": "text/x-python",
   "name": "python",
   "nbconvert_exporter": "python",
   "pygments_lexer": "ipython3",
   "version": "3.8.2"
  }
 },
 "nbformat": 4,
 "nbformat_minor": 4
}
